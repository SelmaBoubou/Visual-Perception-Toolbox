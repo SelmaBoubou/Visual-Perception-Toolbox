{
 "cells": [
  {
   "cell_type": "markdown",
   "metadata": {},
   "source": [
    "# Visual Perception: Toolbox project - Opencv\n"
   ]
  },
  {
   "cell_type": "markdown",
   "metadata": {},
   "source": [
    "Student:  BOUDISSA Selma                     \n",
    "Date: 07/05/2018"
   ]
  },
  {
   "cell_type": "markdown",
   "metadata": {},
   "source": [
    "## I. Introduction\n",
    "In this project the objective is to create a toolbox with different function using openCV and Tkinter for the GUI\n"
   ]
  },
  {
   "cell_type": "markdown",
   "metadata": {},
   "source": [
    "## Library"
   ]
  },
  {
   "cell_type": "code",
   "execution_count": 1,
   "metadata": {
    "collapsed": true
   },
   "outputs": [],
   "source": [
    "# Import the necessary library \n",
    "import matplotlib\n",
    "from matplotlib import pyplot as plt\n",
    "import cv2 \n",
    "import numpy as np\n",
    "#salt and pepper function\n",
    "import random\n",
    "#gui\n",
    "import tkinter\n",
    "from tkinter.filedialog import *\n",
    "from tkinter import *\n",
    "from tkinter import Label,Tk\n",
    "from PIL import Image, ImageTk"
   ]
  },
  {
   "cell_type": "markdown",
   "metadata": {},
   "source": [
    "## Functions"
   ]
  },
  {
   "cell_type": "code",
   "execution_count": 2,
   "metadata": {
    "collapsed": true
   },
   "outputs": [],
   "source": [
    "# Load an image \n",
    "\n",
    "def LoadingImage():\n",
    "\n",
    "        filename = filedialog.askopenfilename()\n",
    "        img = cv2.imread(filename)\n",
    "        cv2.imshow('image',img)\n",
    "        # creation of global variable \n",
    "        global image\n",
    "        image = img\n",
    "        \n",
    "\n",
    "# reference:\n",
    "# https://farrframeworks.com/programming/2017/12/26/opencv-python-reading-and-displaying-images\n"
   ]
  },
  {
   "cell_type": "code",
   "execution_count": 3,
   "metadata": {
    "collapsed": true
   },
   "outputs": [],
   "source": [
    "# (a) Add salt and pepper noise\n",
    "\n",
    "def SaltPepper():\n",
    "        row,col,ch = image.shape\n",
    "        sNp = 0.9\n",
    "        amount = 0.005\n",
    "        out = np.copy(image)\n",
    "        \n",
    "        # Salt mode\n",
    "        num_salt = np.ceil(amount * image.size * sNp)\n",
    "        coords = [np.random.randint(0, i - 1, int(num_salt))\n",
    "            for i in image.shape]\n",
    "        out[coords] = 1\n",
    "        \n",
    "        # Pepper mode\n",
    "        num_pepper = np.ceil(amount* image.size * (1. - sNp))\n",
    "        coords = [np.random.randint(0, i - 1, int(num_pepper))\n",
    "              for i in image.shape]\n",
    "        out[coords] = 0\n",
    "        \n",
    "        cv2.imshow('Salt & Pepper',out)\n",
    "\n",
    "# Credit: Kévin Descharrieres"
   ]
  },
  {
   "cell_type": "code",
   "execution_count": 4,
   "metadata": {
    "collapsed": true
   },
   "outputs": [],
   "source": [
    "# (b) Region of interest\n",
    "def RegionOfInterest():\n",
    "    # Select ROI\n",
    "    r = cv2.selectROI(image)\n",
    "    roi_img = image[int(r[1]):int(r[1]+r[3]), int(r[0]):int(r[0]+r[2])]\n",
    "     # Display cropped image\n",
    "    cv2.imshow(\"Region Of Interest result\", roi_img)\n",
    "    cv2.waitKey(0)\n",
    "    \n",
    "# credit: Meldrick REIMMER"
   ]
  },
  {
   "cell_type": "code",
   "execution_count": 5,
   "metadata": {
    "collapsed": true
   },
   "outputs": [],
   "source": [
    "# (c) Convert to Colorspace\n",
    "# definition of the different color-space\n",
    "def lab_color():\n",
    "    lab = cv2.cvtColor(image, cv2.COLOR_BGR2LAB)\n",
    "    cv2.imshow(\"Lab color space\", lab)\n",
    "    cv2.waitKey(0)\n",
    "\n",
    "def YCrCb_color():\n",
    "    ycrcb = cv2.cvtColor(image, cv2.COLOR_BGR2YCrCb)\n",
    "    cv2.imshow(\"YCrCb color space\", ycrcb)\n",
    "    cv2.waitKey(0)\n",
    "        \n",
    "def HSV_color():\n",
    "    hsv = cv2.cvtColor(image, cv2.COLOR_BGR2HSV)\n",
    "    cv2.imshow(\"Hsv color space\", hsv)\n",
    "    cv2.waitKey(0)\n",
    "      \n",
    " # references\n",
    "# https://www.learnopencv.com/color-spaces-in-opencv-cpp-python/"
   ]
  },
  {
   "cell_type": "code",
   "execution_count": 6,
   "metadata": {
    "collapsed": true
   },
   "outputs": [],
   "source": [
    "# (d) Histogram\n",
    "# Compute\n",
    "def Histogram():\n",
    "    hist = cv2.calcHist([image],[0],None,[256],[0,256]) \n",
    "    equ = cv2.equalizeHist(image)\n",
    "    cv2.imshow('Computed Hist',hist)\n",
    "    cv2.imshow('Equalized Hist',equ)\n",
    "    cv2.waitKey(0)\n",
    "\n"
   ]
  },
  {
   "cell_type": "code",
   "execution_count": 7,
   "metadata": {
    "collapsed": true
   },
   "outputs": [],
   "source": [
    "#(f) Morphological operations\n",
    "def Erosion():\n",
    "    img = cv2.cvtColor(image, cv2.COLOR_BGR2GRAY)\n",
    "    kernel = np.ones((5,5),np.uint8)\n",
    "    erosion = cv2.erode(img,kernel,iterations = 1)\n",
    "    cv2.imshow('erosion', erosion)\n",
    "        \n",
    "        \n",
    "def Dilation():\n",
    "        img = cv2.cvtColor(image, cv2.COLOR_BGR2GRAY)\n",
    "        kernel = np.ones((5,5),np.uint8)\n",
    "        dilation = cv2.dilate(img,kernel,iterations = 1)\n",
    "        cv2.imshow('dilation', dilation)\n",
    "        \n",
    "def Open():\n",
    "        img = cv2.cvtColor(image, cv2.COLOR_BGR2GRAY)\n",
    "        kernel = np.ones((5,5),np.uint8)\n",
    "        opening = cv2.morphologyEx(img, cv2.MORPH_OPEN, kernel)\n",
    "        cv2.imshow('open', opening)\n",
    "        \n",
    "def Close():\n",
    "        img = cv2.cvtColor(image, cv2.COLOR_BGR2GRAY)\n",
    "        kernel = np.ones((5,5),np.uint8)\n",
    "        closing = cv2.morphologyEx(img, cv2.MORPH_CLOSE, kernel)\n",
    "        cv2.imshow('closing', closing)\n"
   ]
  },
  {
   "cell_type": "code",
   "execution_count": 8,
   "metadata": {
    "collapsed": true
   },
   "outputs": [],
   "source": [
    "# (g) Blur\n",
    "def Blur():\n",
    "    kernel = np.ones((5,5),np.float32)/25\n",
    "    blur = cv2.filter2D(image,-1,kernel)\n",
    "    cv2.imshow(\"Blured image\", blur)\n",
    "    cv2.waitKey(0)\n",
    "    \n",
    "# reference: https://docs.opencv.org/3.1.0/d4/d13/tutorial_py_filtering.html"
   ]
  },
  {
   "cell_type": "code",
   "execution_count": 9,
   "metadata": {
    "collapsed": true
   },
   "outputs": [],
   "source": [
    "# (h) Apply Sobel and Laplacian operators\n",
    "\n",
    "# Sobel \n",
    "def Sobel():\n",
    "    sobelx = cv2.Sobel(image,cv2.CV_64F,1,0,ksize=5)\n",
    "    sobely = cv2.Sobel(image,cv2.CV_64F,0,1,ksize=5)\n",
    "    cv2.imshow(\"Sobel in horizontal x axis \", sobelx)\n",
    "    cv2.imshow(\"Sobel in vertical y axis \", sobely)\n",
    "    cv2.waitKey(0)\n",
    "\n",
    "# Laplacian\n",
    "def Laplace ():\n",
    "    laplace = cv2.Laplacian(image,cv2.CV_64F)\n",
    "    cv2.imshow(\"Laplacian \",laplace )\n",
    "    cv2.waitKey(0)\n",
    "    \n",
    "# reference: https://docs.opencv.org/3.0-beta/doc/py_tutorials/py_imgproc/py_gradients/py_gradients.html"
   ]
  },
  {
   "cell_type": "code",
   "execution_count": null,
   "metadata": {
    "collapsed": true
   },
   "outputs": [],
   "source": [
    "# (i) Edge detection using Canny\n",
    "def Canny():\n",
    "    canny = cv2.Canny(image,100, 200)\n",
    "    cv2.imshow(\"Canny \",canny )\n",
    "    cv2.waitKey(0)\n",
    "# reference: https://docs.opencv.org/3.1.0/da/d22/tutorial_py_canny.html"
   ]
  },
  {
   "cell_type": "markdown",
   "metadata": {},
   "source": [
    "## Graphical User Interface\n"
   ]
  },
  {
   "cell_type": "code",
   "execution_count": null,
   "metadata": {
    "collapsed": true
   },
   "outputs": [],
   "source": [
    "#Creating my GUI\n",
    "GUI = Tk()\n",
    "GUI.title('Visual Percpetion: OpenCV ToolBox')\n",
    "GUI.geometry('400x400')\n",
    "\n",
    "menu= Menu(GUI)\n",
    "GUI.config(menu=menu)\n",
    "\n",
    "#loading the image\n",
    "subMenu = Menu(menu)\n",
    "menu.add_cascade(label=\"Input\", menu=subMenu)\n",
    "subMenu.add_command(label=\"Load Image\",command =LoadingImage)\n",
    "\n",
    "#applying salt & pepper noise\n",
    "subMenu1 = Menu(menu)\n",
    "menu.add_cascade(label=\"Noise\", menu=subMenu1)\n",
    "subMenu1.add_command(label=\"Salt&Pepper\",command =SaltPepper)\n",
    "\n",
    "\n",
    "# roi\n",
    "subMenu2 = Menu(menu)\n",
    "menu.add_cascade(label=\"Logo\", menu=subMenu2)\n",
    "subMenu2.add_command(label=\"ROI\",command =RegionOfInterest)\n",
    "\n",
    "# morphological operations\n",
    "subMenu3 = Menu(menu)\n",
    "menu.add_cascade(label=\"MorphologicalOps\", menu=subMenu3)\n",
    "subMenu3.add_command(label=\"Dilate\",command =Dilation)\n",
    "subMenu3.add_command(label=\"Erode\",command =Erosion)\n",
    "subMenu3.add_command(label=\"Open\",command =Open)\n",
    "subMenu3.add_command(label=\"Close\",command =Close)\n",
    "\n",
    "# convert colorspace\n",
    "subMenu4 = Menu(menu)\n",
    "menu.add_cascade(label=\"Colorspace\", menu=subMenu4)\n",
    "subMenu4.add_command(label=\"LAB\",command = lab_color)\n",
    "subMenu4.add_command(label=\"YCrCb\",command = YCrCb_color)\n",
    "subMenu4.add_command(label=\"HSV\",command = HSV_color)\n",
    "\n",
    "\n",
    "# histogram\n",
    "subMenu5 = Menu(menu)\n",
    "menu.add_cascade(label=\"Histogram\", menu=subMenu5)\n",
    "subMenu5.add_command(label=\"Histogram\",command = Histogram)\n",
    "\n",
    "# blurred the image\n",
    "subMenu6 = Menu(menu)\n",
    "menu.add_cascade(label=\"Blur\", command = Blur)\n",
    "\n",
    "# Sobel and Laplace operators\n",
    "subMenu7 = Menu(menu)\n",
    "menu.add_cascade(label=\"Operators\", menu=subMenu7)\n",
    "subMenu7.add_command(label=\"Sobel\",command = Sobel)\n",
    "subMenu7.add_command(label=\"Laplace\",command = Laplace)\n",
    "\n",
    "# Sobel and Laplace operators\n",
    "subMenu8 = Menu(menu)\n",
    "menu.add_cascade(label=\"Edge detection\", menu=subMenu8)\n",
    "subMenu8.add_command(label=\"Canny\",command = Canny)\n",
    "\n",
    "# close the previous figure\n",
    "\n",
    "# display the gui\n",
    "GUI.mainloop()\n"
   ]
  }
 ],
 "metadata": {
  "anaconda-cloud": {},
  "kernelspec": {
   "display_name": "Python 3",
   "language": "python",
   "name": "python3"
  },
  "language_info": {
   "codemirror_mode": {
    "name": "ipython",
    "version": 3
   },
   "file_extension": ".py",
   "mimetype": "text/x-python",
   "name": "python",
   "nbconvert_exporter": "python",
   "pygments_lexer": "ipython3",
   "version": "3.6.3"
  }
 },
 "nbformat": 4,
 "nbformat_minor": 1
}
