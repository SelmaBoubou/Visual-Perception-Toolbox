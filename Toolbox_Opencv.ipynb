{
 "cells": [
  {
   "cell_type": "markdown",
   "metadata": {},
   "source": [
    "# Visual Perception: Toolbox project - Opencv\n"
   ]
  },
  {
   "cell_type": "markdown",
   "metadata": {},
   "source": [
    "Student:  BOUDISSA Selma                     \n",
    "Date: 07/05/2018"
   ]
  },
  {
   "cell_type": "markdown",
   "metadata": {},
   "source": [
    "## I. Introduction\n",
    "In this project the object is to create a toolbox with different function using openCV 3.4.2"
   ]
  },
  {
   "cell_type": "code",
   "execution_count": 1,
   "metadata": {
    "collapsed": true
   },
   "outputs": [],
   "source": [
    "# Import the necessary library \n",
    "import matplotlib\n",
    "from matplotlib import pyplot as plt\n",
    "import cv2 \n",
    "import numpy as np\n",
    "#salt and pepper function\n",
    "import random\n",
    "#gui\n",
    "import tkinter as tk\n",
    "\n",
    "\n",
    "\n",
    "import tkinter\n",
    "import tkinter.messagebox\n",
    "import tkinter.filedialog\n",
    "from tkinter.filedialog import *\n",
    "from tkinter import *\n",
    "from tkinter import Label,Tk\n",
    "from PIL import Image, ImageTk\n",
    "import glob"
   ]
  },
  {
   "cell_type": "code",
   "execution_count": 17,
   "metadata": {},
   "outputs": [],
   "source": [
    "# Load an image \n",
    "\n",
    "           \n",
    "def LoadingImage():\n",
    "\n",
    "        filename = filedialog.askopenfilename()\n",
    "        img = cv2.imread(filename)\n",
    "        cv2.imshow('image',img)\n",
    "        # creation of global variable \n",
    "        global image\n",
    "        image = img\n",
    "        \n",
    "\n",
    "# reference\n",
    "# https://farrframeworks.com/programming/2017/12/26/opencv-python-reading-and-displaying-images\n"
   ]
  },
  {
   "cell_type": "code",
   "execution_count": 23,
   "metadata": {},
   "outputs": [],
   "source": [
    "# (a) Add salt and pepper noise\n",
    "\n",
    "def SaltPepper():\n",
    "        row,col,ch = image.shape\n",
    "        sNp = 0.9\n",
    "        amount = 0.005\n",
    "        out = np.copy(image)\n",
    "        \n",
    "        # Salt mode\n",
    "        num_salt = np.ceil(amount * image.size * sNp)\n",
    "        coords = [np.random.randint(0, i - 1, int(num_salt))\n",
    "            for i in image.shape]\n",
    "        out[coords] = 1\n",
    "        \n",
    "        # Pepper mode\n",
    "        num_pepper = np.ceil(amount* image.size * (1. - sNp))\n",
    "        coords = [np.random.randint(0, i - 1, int(num_pepper))\n",
    "              for i in image.shape]\n",
    "        out[coords] = 0\n",
    "        \n",
    "        cv2.imshow('Salt & Pepper',out)\n"
   ]
  },
  {
   "cell_type": "markdown",
   "metadata": {},
   "source": [
    "## Graphical User Interface\n"
   ]
  },
  {
   "cell_type": "code",
   "execution_count": 24,
   "metadata": {},
   "outputs": [],
   "source": [
    "#Creating my GUI\n",
    "GUI = Tk()\n",
    "GUI.title('Visual Percpetion: OpenCV ToolBox')\n",
    "GUI.geometry('900x900')\n",
    "\n",
    "menu= Menu(GUI)\n",
    "GUI.config(menu=menu)\n",
    "\n",
    "#loading the image\n",
    "subMenu = Menu(menu)\n",
    "menu.add_cascade(label=\"Input\", menu=subMenu)\n",
    "subMenu.add_command(label=\"Load Image\",command =LoadingImage)\n",
    "\n",
    "#applying salt & pepper noise\n",
    "subMenu1 = Menu(menu)\n",
    "menu.add_cascade(label=\"Noise\", menu=subMenu1)\n",
    "subMenu1.add_command(label=\"Salt&Pepper\",command =SaltPepper)\n",
    "GUI.mainloop()"
   ]
  },
  {
   "cell_type": "code",
   "execution_count": null,
   "metadata": {
    "collapsed": true
   },
   "outputs": [],
   "source": []
  }
 ],
 "metadata": {
  "anaconda-cloud": {},
  "kernelspec": {
   "display_name": "Python 3",
   "language": "python",
   "name": "python3"
  },
  "language_info": {
   "codemirror_mode": {
    "name": "ipython",
    "version": 3
   },
   "file_extension": ".py",
   "mimetype": "text/x-python",
   "name": "python",
   "nbconvert_exporter": "python",
   "pygments_lexer": "ipython3",
   "version": "3.6.3"
  }
 },
 "nbformat": 4,
 "nbformat_minor": 1
}
